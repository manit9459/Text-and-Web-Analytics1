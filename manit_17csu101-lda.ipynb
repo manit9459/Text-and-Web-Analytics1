{
 "cells": [
  {
   "cell_type": "markdown",
   "metadata": {},
   "source": [
    "# Lab Assignment-5\n",
    "# Name- Manit Kakkar\n",
    "# Roll No.-17CSU101"
   ]
  },
  {
   "cell_type": "code",
   "execution_count": 1,
   "metadata": {
    "_cell_guid": "b1076dfc-b9ad-4769-8c92-a6c4dae69d19",
    "_uuid": "8f2839f25d086af736a60e9eeb907d3b93b6e0e5"
   },
   "outputs": [],
   "source": [
    "import numpy as np # linear algebra\n",
    "import pandas as pd # data processing\n",
    "import os"
   ]
  },
  {
   "cell_type": "code",
   "execution_count": 2,
   "metadata": {
    "_cell_guid": "79c7e3d0-c299-4dcb-8224-4455121ee9b0",
    "_uuid": "d629ff2d2480ee46fbb7e2d37f6b5fab8052498a"
   },
   "outputs": [],
   "source": [
    "data=pd.read_csv(r'C:\\Users\\manit kakkar\\OneDrive\\Desktop\\abcnews-date-text.csv')"
   ]
  },
  {
   "cell_type": "code",
   "execution_count": 3,
   "metadata": {},
   "outputs": [],
   "source": [
    "data_text=data[:5000][['headline_text']];"
   ]
  },
  {
   "cell_type": "code",
   "execution_count": 4,
   "metadata": {},
   "outputs": [],
   "source": [
    "data_text['index']=data_text.index"
   ]
  },
  {
   "cell_type": "code",
   "execution_count": 5,
   "metadata": {},
   "outputs": [],
   "source": [
    "documents=data_text"
   ]
  },
  {
   "cell_type": "code",
   "execution_count": 6,
   "metadata": {},
   "outputs": [
    {
     "name": "stdout",
     "output_type": "stream",
     "text": [
      "5000\n"
     ]
    }
   ],
   "source": [
    "print(len(documents))"
   ]
  },
  {
   "cell_type": "code",
   "execution_count": 7,
   "metadata": {},
   "outputs": [
    {
     "data": {
      "text/html": [
       "<div>\n",
       "<style scoped>\n",
       "    .dataframe tbody tr th:only-of-type {\n",
       "        vertical-align: middle;\n",
       "    }\n",
       "\n",
       "    .dataframe tbody tr th {\n",
       "        vertical-align: top;\n",
       "    }\n",
       "\n",
       "    .dataframe thead th {\n",
       "        text-align: right;\n",
       "    }\n",
       "</style>\n",
       "<table border=\"1\" class=\"dataframe\">\n",
       "  <thead>\n",
       "    <tr style=\"text-align: right;\">\n",
       "      <th></th>\n",
       "      <th>headline_text</th>\n",
       "      <th>index</th>\n",
       "    </tr>\n",
       "  </thead>\n",
       "  <tbody>\n",
       "    <tr>\n",
       "      <th>0</th>\n",
       "      <td>aba decides against community broadcasting lic...</td>\n",
       "      <td>0</td>\n",
       "    </tr>\n",
       "    <tr>\n",
       "      <th>1</th>\n",
       "      <td>act fire witnesses must be aware of defamation</td>\n",
       "      <td>1</td>\n",
       "    </tr>\n",
       "    <tr>\n",
       "      <th>2</th>\n",
       "      <td>a g calls for infrastructure protection summit</td>\n",
       "      <td>2</td>\n",
       "    </tr>\n",
       "    <tr>\n",
       "      <th>3</th>\n",
       "      <td>air nz staff in aust strike for pay rise</td>\n",
       "      <td>3</td>\n",
       "    </tr>\n",
       "    <tr>\n",
       "      <th>4</th>\n",
       "      <td>air nz strike to affect australian travellers</td>\n",
       "      <td>4</td>\n",
       "    </tr>\n",
       "  </tbody>\n",
       "</table>\n",
       "</div>"
      ],
      "text/plain": [
       "                                       headline_text  index\n",
       "0  aba decides against community broadcasting lic...      0\n",
       "1     act fire witnesses must be aware of defamation      1\n",
       "2     a g calls for infrastructure protection summit      2\n",
       "3           air nz staff in aust strike for pay rise      3\n",
       "4      air nz strike to affect australian travellers      4"
      ]
     },
     "execution_count": 7,
     "metadata": {},
     "output_type": "execute_result"
    }
   ],
   "source": [
    "documents.head()"
   ]
  },
  {
   "cell_type": "code",
   "execution_count": 8,
   "metadata": {},
   "outputs": [
    {
     "data": {
      "text/plain": [
       "headline_text    0\n",
       "index            0\n",
       "dtype: int64"
      ]
     },
     "execution_count": 8,
     "metadata": {},
     "output_type": "execute_result"
    }
   ],
   "source": [
    "documents.isnull().sum()"
   ]
  },
  {
   "cell_type": "markdown",
   "metadata": {},
   "source": [
    "## Data Preprocessing"
   ]
  },
  {
   "cell_type": "code",
   "execution_count": 9,
   "metadata": {},
   "outputs": [
    {
     "name": "stderr",
     "output_type": "stream",
     "text": [
      "D:\\ana2\\lib\\site-packages\\gensim\\similarities\\__init__.py:15: UserWarning: The gensim.similarities.levenshtein submodule is disabled, because the optional Levenshtein package <https://pypi.org/project/python-Levenshtein/> is unavailable. Install Levenhstein (e.g. `pip install python-Levenshtein`) to suppress this warning.\n",
      "  warnings.warn(msg)\n"
     ]
    }
   ],
   "source": [
    "import re\n",
    "from nltk.corpus import stopwords\n",
    "from nltk.stem.porter import PorterStemmer\n",
    "import gensim\n",
    "from gensim.utils import simple_preprocess\n",
    "from gensim.parsing.preprocessing import STOPWORDS\n",
    "from nltk.stem import WordNetLemmatizer, SnowballStemmer\n",
    "from nltk.stem.porter import *\n",
    "import numpy as np\n",
    "np.random.seed(2018)"
   ]
  },
  {
   "cell_type": "code",
   "execution_count": 10,
   "metadata": {},
   "outputs": [],
   "source": [
    "corpus=[]\n",
    "for i in range(0,len(documents)):\n",
    "    text=re.sub('[^a-zA-z]',' ',documents['headline_text'][i])\n",
    "    text=text.lower()\n",
    "    text=text.split()\n",
    "    text=[PorterStemmer().stem(word) for word in text if not word in stopwords.words('english')]\n",
    "    text=' '.join(text)\n",
    "    corpus.append(text)\n",
    "    "
   ]
  },
  {
   "cell_type": "code",
   "execution_count": 11,
   "metadata": {},
   "outputs": [
    {
     "name": "stderr",
     "output_type": "stream",
     "text": [
      "[nltk_data] Downloading package wordnet to C:\\Users\\manit\n",
      "[nltk_data]     kakkar\\AppData\\Roaming\\nltk_data...\n",
      "[nltk_data]   Package wordnet is already up-to-date!\n"
     ]
    },
    {
     "data": {
      "text/plain": [
       "True"
      ]
     },
     "execution_count": 11,
     "metadata": {},
     "output_type": "execute_result"
    }
   ],
   "source": [
    "import nltk\n",
    "nltk.download('wordnet')"
   ]
  },
  {
   "cell_type": "code",
   "execution_count": 12,
   "metadata": {},
   "outputs": [
    {
     "name": "stdout",
     "output_type": "stream",
     "text": [
      "go\n"
     ]
    }
   ],
   "source": [
    "print(WordNetLemmatizer().lemmatize('went', pos='v'))"
   ]
  },
  {
   "cell_type": "code",
   "execution_count": 13,
   "metadata": {},
   "outputs": [
    {
     "data": {
      "text/html": [
       "<div>\n",
       "<style scoped>\n",
       "    .dataframe tbody tr th:only-of-type {\n",
       "        vertical-align: middle;\n",
       "    }\n",
       "\n",
       "    .dataframe tbody tr th {\n",
       "        vertical-align: top;\n",
       "    }\n",
       "\n",
       "    .dataframe thead th {\n",
       "        text-align: right;\n",
       "    }\n",
       "</style>\n",
       "<table border=\"1\" class=\"dataframe\">\n",
       "  <thead>\n",
       "    <tr style=\"text-align: right;\">\n",
       "      <th></th>\n",
       "      <th>original word</th>\n",
       "      <th>stemmed</th>\n",
       "    </tr>\n",
       "  </thead>\n",
       "  <tbody>\n",
       "    <tr>\n",
       "      <th>0</th>\n",
       "      <td>caresses</td>\n",
       "      <td>caress</td>\n",
       "    </tr>\n",
       "    <tr>\n",
       "      <th>1</th>\n",
       "      <td>flies</td>\n",
       "      <td>fli</td>\n",
       "    </tr>\n",
       "    <tr>\n",
       "      <th>2</th>\n",
       "      <td>dies</td>\n",
       "      <td>die</td>\n",
       "    </tr>\n",
       "    <tr>\n",
       "      <th>3</th>\n",
       "      <td>mules</td>\n",
       "      <td>mule</td>\n",
       "    </tr>\n",
       "    <tr>\n",
       "      <th>4</th>\n",
       "      <td>denied</td>\n",
       "      <td>deni</td>\n",
       "    </tr>\n",
       "    <tr>\n",
       "      <th>5</th>\n",
       "      <td>died</td>\n",
       "      <td>die</td>\n",
       "    </tr>\n",
       "    <tr>\n",
       "      <th>6</th>\n",
       "      <td>agreed</td>\n",
       "      <td>agre</td>\n",
       "    </tr>\n",
       "    <tr>\n",
       "      <th>7</th>\n",
       "      <td>owned</td>\n",
       "      <td>own</td>\n",
       "    </tr>\n",
       "    <tr>\n",
       "      <th>8</th>\n",
       "      <td>humbled</td>\n",
       "      <td>humbl</td>\n",
       "    </tr>\n",
       "    <tr>\n",
       "      <th>9</th>\n",
       "      <td>sized</td>\n",
       "      <td>size</td>\n",
       "    </tr>\n",
       "    <tr>\n",
       "      <th>10</th>\n",
       "      <td>meeting</td>\n",
       "      <td>meet</td>\n",
       "    </tr>\n",
       "    <tr>\n",
       "      <th>11</th>\n",
       "      <td>stating</td>\n",
       "      <td>state</td>\n",
       "    </tr>\n",
       "    <tr>\n",
       "      <th>12</th>\n",
       "      <td>siezing</td>\n",
       "      <td>siez</td>\n",
       "    </tr>\n",
       "    <tr>\n",
       "      <th>13</th>\n",
       "      <td>itemization</td>\n",
       "      <td>item</td>\n",
       "    </tr>\n",
       "    <tr>\n",
       "      <th>14</th>\n",
       "      <td>sensational</td>\n",
       "      <td>sensat</td>\n",
       "    </tr>\n",
       "    <tr>\n",
       "      <th>15</th>\n",
       "      <td>traditional</td>\n",
       "      <td>tradit</td>\n",
       "    </tr>\n",
       "    <tr>\n",
       "      <th>16</th>\n",
       "      <td>reference</td>\n",
       "      <td>refer</td>\n",
       "    </tr>\n",
       "    <tr>\n",
       "      <th>17</th>\n",
       "      <td>colonizer</td>\n",
       "      <td>colon</td>\n",
       "    </tr>\n",
       "    <tr>\n",
       "      <th>18</th>\n",
       "      <td>plotted</td>\n",
       "      <td>plot</td>\n",
       "    </tr>\n",
       "  </tbody>\n",
       "</table>\n",
       "</div>"
      ],
      "text/plain": [
       "   original word stemmed\n",
       "0       caresses  caress\n",
       "1          flies     fli\n",
       "2           dies     die\n",
       "3          mules    mule\n",
       "4         denied    deni\n",
       "5           died     die\n",
       "6         agreed    agre\n",
       "7          owned     own\n",
       "8        humbled   humbl\n",
       "9          sized    size\n",
       "10       meeting    meet\n",
       "11       stating   state\n",
       "12       siezing    siez\n",
       "13   itemization    item\n",
       "14   sensational  sensat\n",
       "15   traditional  tradit\n",
       "16     reference   refer\n",
       "17     colonizer   colon\n",
       "18       plotted    plot"
      ]
     },
     "execution_count": 13,
     "metadata": {},
     "output_type": "execute_result"
    }
   ],
   "source": [
    "stemmer = SnowballStemmer('english')\n",
    "original_words = ['caresses', 'flies', 'dies', 'mules', 'denied','died', 'agreed', 'owned', \n",
    "           'humbled', 'sized','meeting', 'stating', 'siezing', 'itemization','sensational', \n",
    "           'traditional', 'reference', 'colonizer','plotted']\n",
    "singles = [stemmer.stem(plural) for plural in original_words]\n",
    "pd.DataFrame(data = {'original word': original_words, 'stemmed': singles})"
   ]
  },
  {
   "cell_type": "code",
   "execution_count": 14,
   "metadata": {},
   "outputs": [],
   "source": [
    "def lemmatize_stemming(text):\n",
    "    return stemmer.stem(WordNetLemmatizer().lemmatize(text, pos='v'))\n",
    "\n",
    "def preprocess(text):\n",
    "    result = []\n",
    "    for token in gensim.utils.simple_preprocess(text):\n",
    "        if token not in gensim.parsing.preprocessing.STOPWORDS and len(token) > 3:\n",
    "            result.append(lemmatize_stemming(token))\n",
    "    return result"
   ]
  },
  {
   "cell_type": "code",
   "execution_count": 15,
   "metadata": {},
   "outputs": [
    {
     "name": "stderr",
     "output_type": "stream",
     "text": [
      "D:\\ana2\\lib\\site-packages\\ipykernel_launcher.py:2: SettingWithCopyWarning: \n",
      "A value is trying to be set on a copy of a slice from a DataFrame\n",
      "\n",
      "See the caveats in the documentation: https://pandas.pydata.org/pandas-docs/stable/user_guide/indexing.html#returning-a-view-versus-a-copy\n",
      "  \n"
     ]
    }
   ],
   "source": [
    "for i in range(0,len(corpus)):\n",
    "    documents['headline_text'][i]=corpus[i]"
   ]
  },
  {
   "cell_type": "code",
   "execution_count": 16,
   "metadata": {},
   "outputs": [
    {
     "data": {
      "text/html": [
       "<div>\n",
       "<style scoped>\n",
       "    .dataframe tbody tr th:only-of-type {\n",
       "        vertical-align: middle;\n",
       "    }\n",
       "\n",
       "    .dataframe tbody tr th {\n",
       "        vertical-align: top;\n",
       "    }\n",
       "\n",
       "    .dataframe thead th {\n",
       "        text-align: right;\n",
       "    }\n",
       "</style>\n",
       "<table border=\"1\" class=\"dataframe\">\n",
       "  <thead>\n",
       "    <tr style=\"text-align: right;\">\n",
       "      <th></th>\n",
       "      <th>headline_text</th>\n",
       "    </tr>\n",
       "  </thead>\n",
       "  <tbody>\n",
       "    <tr>\n",
       "      <th>0</th>\n",
       "      <td>aba decid commun broadcast licenc</td>\n",
       "    </tr>\n",
       "    <tr>\n",
       "      <th>1</th>\n",
       "      <td>act fire wit must awar defam</td>\n",
       "    </tr>\n",
       "    <tr>\n",
       "      <th>2</th>\n",
       "      <td>g call infrastructur protect summit</td>\n",
       "    </tr>\n",
       "    <tr>\n",
       "      <th>3</th>\n",
       "      <td>air nz staff aust strike pay rise</td>\n",
       "    </tr>\n",
       "    <tr>\n",
       "      <th>4</th>\n",
       "      <td>air nz strike affect australian travel</td>\n",
       "    </tr>\n",
       "    <tr>\n",
       "      <th>...</th>\n",
       "      <td>...</td>\n",
       "    </tr>\n",
       "    <tr>\n",
       "      <th>4995</th>\n",
       "      <td>slater star blue day one</td>\n",
       "    </tr>\n",
       "    <tr>\n",
       "      <th>4996</th>\n",
       "      <td>soprano film delay contract disput</td>\n",
       "    </tr>\n",
       "    <tr>\n",
       "      <th>4997</th>\n",
       "      <td>souri outlin region road fund</td>\n",
       "    </tr>\n",
       "    <tr>\n",
       "      <th>4998</th>\n",
       "      <td>south east water license pay levi</td>\n",
       "    </tr>\n",
       "    <tr>\n",
       "      <th>4999</th>\n",
       "      <td>sri lanka hope new zealand defeat</td>\n",
       "    </tr>\n",
       "  </tbody>\n",
       "</table>\n",
       "<p>5000 rows × 1 columns</p>\n",
       "</div>"
      ],
      "text/plain": [
       "                               headline_text\n",
       "0          aba decid commun broadcast licenc\n",
       "1               act fire wit must awar defam\n",
       "2        g call infrastructur protect summit\n",
       "3          air nz staff aust strike pay rise\n",
       "4     air nz strike affect australian travel\n",
       "...                                      ...\n",
       "4995                slater star blue day one\n",
       "4996      soprano film delay contract disput\n",
       "4997           souri outlin region road fund\n",
       "4998       south east water license pay levi\n",
       "4999       sri lanka hope new zealand defeat\n",
       "\n",
       "[5000 rows x 1 columns]"
      ]
     },
     "execution_count": 16,
     "metadata": {},
     "output_type": "execute_result"
    }
   ],
   "source": [
    "documents[[\"headline_text\"]]"
   ]
  },
  {
   "cell_type": "code",
   "execution_count": 17,
   "metadata": {},
   "outputs": [],
   "source": [
    "processed_docs=documents['headline_text'].map(preprocess)"
   ]
  },
  {
   "cell_type": "code",
   "execution_count": 18,
   "metadata": {},
   "outputs": [
    {
     "data": {
      "text/plain": [
       "0               [decid, commun, broadcast, licenc]\n",
       "1                                    [awar, defam]\n",
       "2                 [infrastructur, protect, summit]\n",
       "3                      [staff, aust, strike, rise]\n",
       "4             [strike, affect, australian, travel]\n",
       "5                    [ambiti, olsson, tripl, jump]\n",
       "6           [antic, delight, record, break, barca]\n",
       "7    [aussi, qualifi, stosur, wast, memphi, match]\n",
       "8            [aust, address, secur, council, iraq]\n",
       "9                         [australia, lock, timet]\n",
       "Name: headline_text, dtype: object"
      ]
     },
     "execution_count": 18,
     "metadata": {},
     "output_type": "execute_result"
    }
   ],
   "source": [
    "processed_docs[:10]"
   ]
  },
  {
   "cell_type": "markdown",
   "metadata": {},
   "source": [
    "## Bag of words on the dataset"
   ]
  },
  {
   "cell_type": "code",
   "execution_count": 19,
   "metadata": {},
   "outputs": [],
   "source": [
    "import gensim"
   ]
  },
  {
   "cell_type": "code",
   "execution_count": 20,
   "metadata": {},
   "outputs": [],
   "source": [
    "dictionary=gensim.corpora.Dictionary(processed_docs)"
   ]
  },
  {
   "cell_type": "code",
   "execution_count": 21,
   "metadata": {},
   "outputs": [
    {
     "name": "stdout",
     "output_type": "stream",
     "text": [
      "0 broadcast\n",
      "1 commun\n",
      "2 decid\n",
      "3 licenc\n",
      "4 awar\n",
      "5 defam\n",
      "6 infrastructur\n",
      "7 protect\n",
      "8 summit\n",
      "9 aust\n",
      "10 rise\n",
      "11 staff\n",
      "12 strike\n",
      "13 affect\n",
      "14 australian\n",
      "15 travel\n",
      "16 ambiti\n",
      "17 jump\n",
      "18 olsson\n",
      "19 tripl\n",
      "20 antic\n"
     ]
    }
   ],
   "source": [
    "count=0\n",
    "for k,v in dictionary.iteritems():\n",
    "    print(k,v)\n",
    "    count+=1\n",
    "    if count>20:\n",
    "        break"
   ]
  },
  {
   "cell_type": "code",
   "execution_count": 22,
   "metadata": {},
   "outputs": [],
   "source": [
    "dictionary.filter_extremes(no_below=15,no_above=0.1,keep_n=1000)"
   ]
  },
  {
   "cell_type": "code",
   "execution_count": 23,
   "metadata": {},
   "outputs": [],
   "source": [
    "bow_corpus=[dictionary.doc2bow(doc) for doc in processed_docs]"
   ]
  },
  {
   "cell_type": "code",
   "execution_count": 24,
   "metadata": {},
   "outputs": [
    {
     "data": {
      "text/plain": [
       "[(125, 1)]"
      ]
     },
     "execution_count": 24,
     "metadata": {},
     "output_type": "execute_result"
    }
   ],
   "source": [
    "bow_corpus[100]"
   ]
  },
  {
   "cell_type": "code",
   "execution_count": 25,
   "metadata": {},
   "outputs": [
    {
     "name": "stdout",
     "output_type": "stream",
     "text": [
      "Word 125 (\"women\") appears 1 time.\n"
     ]
    }
   ],
   "source": [
    "bow_corpus_100=bow_corpus[100]\n",
    "for i in range(len(bow_corpus_100)):\n",
    "    print(\"Word {} (\\\"{}\\\") appears {} time.\".format(bow_corpus_100[i][0], \n",
    "                                                     dictionary[bow_corpus_100[i][0]], \n",
    "                                                     bow_corpus_100[i][1]))"
   ]
  },
  {
   "cell_type": "markdown",
   "metadata": {},
   "source": [
    "## TF-IDF on our document set"
   ]
  },
  {
   "cell_type": "code",
   "execution_count": 26,
   "metadata": {},
   "outputs": [],
   "source": [
    "from gensim import corpora,models\n",
    "tfidf=models.TfidfModel(bow_corpus)"
   ]
  },
  {
   "cell_type": "code",
   "execution_count": 27,
   "metadata": {},
   "outputs": [],
   "source": [
    "corpus_tfidf=tfidf[bow_corpus]"
   ]
  },
  {
   "cell_type": "markdown",
   "metadata": {},
   "source": [
    "## Running LDA using Bag of Words"
   ]
  },
  {
   "cell_type": "code",
   "execution_count": 28,
   "metadata": {},
   "outputs": [],
   "source": [
    "lda_model=gensim.models.LdaMulticore(bow_corpus,\n",
    "                                    num_topics=10,\n",
    "                                    id2word=dictionary,\n",
    "                                    passes=2)"
   ]
  },
  {
   "cell_type": "code",
   "execution_count": 29,
   "metadata": {},
   "outputs": [
    {
     "name": "stdout",
     "output_type": "stream",
     "text": [
      "Topic: 0 \n",
      "Words: 0.037*\"warn\" + 0.031*\"govt\" + 0.031*\"iraq\" + 0.029*\"protest\" + 0.019*\"head\" + 0.019*\"missil\" + 0.018*\"destroy\" + 0.015*\"tell\" + 0.015*\"crash\" + 0.015*\"crean\"\n",
      "\n",
      "\n",
      "Topic: 1 \n",
      "Words: 0.055*\"charg\" + 0.035*\"world\" + 0.034*\"murder\" + 0.030*\"kill\" + 0.020*\"polic\" + 0.019*\"hous\" + 0.018*\"trial\" + 0.017*\"drug\" + 0.017*\"claim\" + 0.015*\"boost\"\n",
      "\n",
      "\n",
      "Topic: 2 \n",
      "Words: 0.042*\"plan\" + 0.024*\"green\" + 0.023*\"play\" + 0.020*\"govt\" + 0.019*\"reject\" + 0.018*\"commun\" + 0.017*\"claim\" + 0.017*\"match\" + 0.016*\"offer\" + 0.016*\"iraqi\"\n",
      "\n",
      "\n",
      "Topic: 3 \n",
      "Words: 0.052*\"council\" + 0.033*\"polic\" + 0.024*\"death\" + 0.022*\"begin\" + 0.019*\"attack\" + 0.018*\"plan\" + 0.017*\"korea\" + 0.016*\"river\" + 0.016*\"downer\" + 0.015*\"record\"\n",
      "\n",
      "\n",
      "Topic: 4 \n",
      "Words: 0.025*\"coast\" + 0.024*\"govt\" + 0.023*\"nation\" + 0.019*\"help\" + 0.018*\"gold\" + 0.015*\"draw\" + 0.015*\"clash\" + 0.014*\"ahead\" + 0.014*\"woman\" + 0.014*\"hear\"\n",
      "\n",
      "\n",
      "Topic: 5 \n",
      "Words: 0.033*\"rain\" + 0.031*\"govt\" + 0.029*\"iraq\" + 0.028*\"council\" + 0.022*\"miss\" + 0.021*\"accus\" + 0.020*\"break\" + 0.018*\"meet\" + 0.018*\"farmer\" + 0.017*\"concern\"\n",
      "\n",
      "\n",
      "Topic: 6 \n",
      "Words: 0.049*\"iraq\" + 0.031*\"continu\" + 0.030*\"polic\" + 0.026*\"court\" + 0.022*\"fight\" + 0.020*\"group\" + 0.019*\"rain\" + 0.019*\"health\" + 0.016*\"return\" + 0.016*\"year\"\n",
      "\n",
      "\n",
      "Topic: 7 \n",
      "Words: 0.039*\"open\" + 0.028*\"probe\" + 0.022*\"warn\" + 0.021*\"hope\" + 0.021*\"launch\" + 0.021*\"injuri\" + 0.019*\"expect\" + 0.018*\"bali\" + 0.016*\"water\" + 0.016*\"race\"\n",
      "\n",
      "\n",
      "Topic: 8 \n",
      "Words: 0.018*\"anti\" + 0.017*\"plan\" + 0.017*\"cost\" + 0.017*\"price\" + 0.016*\"home\" + 0.015*\"pakistan\" + 0.015*\"resolut\" + 0.015*\"claim\" + 0.014*\"meet\" + 0.014*\"bushfir\"\n",
      "\n",
      "\n",
      "Topic: 9 \n",
      "Words: 0.074*\"polic\" + 0.029*\"lead\" + 0.020*\"titl\" + 0.019*\"want\" + 0.017*\"fund\" + 0.017*\"work\" + 0.017*\"rail\" + 0.016*\"probe\" + 0.015*\"test\" + 0.015*\"appeal\"\n",
      "\n",
      "\n"
     ]
    }
   ],
   "source": [
    "for idx,topic in lda_model.print_topics(-1):\n",
    "    print(\"Topic: {} \\nWords: {}\".format(idx, topic))\n",
    "    print(\"\\n\")"
   ]
  },
  {
   "cell_type": "markdown",
   "metadata": {},
   "source": [
    "## Running LDA using TF-IDF"
   ]
  },
  {
   "cell_type": "code",
   "execution_count": 30,
   "metadata": {},
   "outputs": [],
   "source": [
    "lda_model_tfidf = gensim.models.LdaMulticore(corpus_tfidf, \n",
    "                                             num_topics=10, \n",
    "                                             id2word = dictionary, \n",
    "                                             passes = 2, \n",
    "                                             workers=4)"
   ]
  },
  {
   "cell_type": "code",
   "execution_count": 31,
   "metadata": {},
   "outputs": [
    {
     "name": "stdout",
     "output_type": "stream",
     "text": [
      "Topic: 0 Word: 0.037*\"govt\" + 0.023*\"chang\" + 0.023*\"minist\" + 0.021*\"rule\" + 0.021*\"public\" + 0.020*\"record\" + 0.019*\"hold\" + 0.018*\"centr\" + 0.017*\"india\" + 0.016*\"talk\"\n",
      "\n",
      "\n",
      "Topic: 1 Word: 0.034*\"world\" + 0.024*\"deni\" + 0.020*\"concern\" + 0.019*\"investig\" + 0.018*\"aust\" + 0.018*\"hospit\" + 0.016*\"unit\" + 0.014*\"downer\" + 0.014*\"issu\" + 0.013*\"caus\"\n",
      "\n",
      "\n",
      "Topic: 2 Word: 0.037*\"plan\" + 0.033*\"polic\" + 0.030*\"charg\" + 0.025*\"iraq\" + 0.021*\"death\" + 0.019*\"murder\" + 0.017*\"jail\" + 0.016*\"chief\" + 0.015*\"crash\" + 0.015*\"increa\"\n",
      "\n",
      "\n",
      "Topic: 3 Word: 0.026*\"trial\" + 0.026*\"hous\" + 0.026*\"kill\" + 0.025*\"group\" + 0.025*\"turn\" + 0.019*\"appeal\" + 0.018*\"elect\" + 0.018*\"charg\" + 0.017*\"iraq\" + 0.016*\"test\"\n",
      "\n",
      "\n",
      "Topic: 4 Word: 0.037*\"warn\" + 0.023*\"fund\" + 0.023*\"farmer\" + 0.022*\"drought\" + 0.021*\"cyclon\" + 0.019*\"resid\" + 0.018*\"australia\" + 0.017*\"titl\" + 0.017*\"teacher\" + 0.016*\"accus\"\n",
      "\n",
      "\n",
      "Topic: 5 Word: 0.042*\"open\" + 0.027*\"govt\" + 0.025*\"injur\" + 0.025*\"dead\" + 0.020*\"nation\" + 0.020*\"hewitt\" + 0.019*\"miss\" + 0.018*\"ahead\" + 0.018*\"clear\" + 0.018*\"match\"\n",
      "\n",
      "\n",
      "Topic: 6 Word: 0.032*\"work\" + 0.024*\"seek\" + 0.020*\"cost\" + 0.019*\"race\" + 0.018*\"stay\" + 0.017*\"turkey\" + 0.017*\"polic\" + 0.017*\"semi\" + 0.016*\"green\" + 0.016*\"arrest\"\n",
      "\n",
      "\n",
      "Topic: 7 Word: 0.028*\"lead\" + 0.026*\"anti\" + 0.022*\"return\" + 0.022*\"iraq\" + 0.019*\"begin\" + 0.018*\"final\" + 0.017*\"miss\" + 0.017*\"case\" + 0.017*\"worker\" + 0.017*\"missil\"\n",
      "\n",
      "\n",
      "Topic: 8 Word: 0.025*\"iraqi\" + 0.019*\"play\" + 0.019*\"hear\" + 0.018*\"report\" + 0.018*\"year\" + 0.016*\"offer\" + 0.015*\"push\" + 0.015*\"deal\" + 0.014*\"pressur\" + 0.014*\"send\"\n",
      "\n",
      "\n",
      "Topic: 9 Word: 0.037*\"council\" + 0.025*\"iraq\" + 0.022*\"bushfir\" + 0.021*\"face\" + 0.017*\"home\" + 0.017*\"polic\" + 0.016*\"claim\" + 0.015*\"resolut\" + 0.015*\"rain\" + 0.015*\"second\"\n",
      "\n",
      "\n"
     ]
    }
   ],
   "source": [
    "for idx, topic in lda_model_tfidf.print_topics(-1):\n",
    "    print(\"Topic: {} Word: {}\".format(idx, topic))\n",
    "    print(\"\\n\")"
   ]
  },
  {
   "cell_type": "markdown",
   "metadata": {},
   "source": [
    "## Performance evaluation by classifying sample document using LDA Bag of Words model"
   ]
  },
  {
   "cell_type": "code",
   "execution_count": 32,
   "metadata": {},
   "outputs": [
    {
     "data": {
      "text/plain": [
       "['ratepay', 'group', 'want', 'compulsori', 'local', 'govt', 'vote']"
      ]
     },
     "execution_count": 32,
     "metadata": {},
     "output_type": "execute_result"
    }
   ],
   "source": [
    "processed_docs[4310]"
   ]
  },
  {
   "cell_type": "code",
   "execution_count": 33,
   "metadata": {},
   "outputs": [
    {
     "name": "stdout",
     "output_type": "stream",
     "text": [
      "\n",
      "Score: 0.48732778429985046\t \n",
      "Topic: 0.074*\"polic\" + 0.029*\"lead\" + 0.020*\"titl\" + 0.019*\"want\" + 0.017*\"fund\" + 0.017*\"work\" + 0.017*\"rail\" + 0.016*\"probe\" + 0.015*\"test\" + 0.015*\"appeal\"\n",
      "\n",
      "Score: 0.3792971074581146\t \n",
      "Topic: 0.018*\"anti\" + 0.017*\"plan\" + 0.017*\"cost\" + 0.017*\"price\" + 0.016*\"home\" + 0.015*\"pakistan\" + 0.015*\"resolut\" + 0.015*\"claim\" + 0.014*\"meet\" + 0.014*\"bushfir\"\n",
      "\n",
      "Score: 0.016678547486662865\t \n",
      "Topic: 0.049*\"iraq\" + 0.031*\"continu\" + 0.030*\"polic\" + 0.026*\"court\" + 0.022*\"fight\" + 0.020*\"group\" + 0.019*\"rain\" + 0.019*\"health\" + 0.016*\"return\" + 0.016*\"year\"\n",
      "\n",
      "Score: 0.01667364314198494\t \n",
      "Topic: 0.037*\"warn\" + 0.031*\"govt\" + 0.031*\"iraq\" + 0.029*\"protest\" + 0.019*\"head\" + 0.019*\"missil\" + 0.018*\"destroy\" + 0.015*\"tell\" + 0.015*\"crash\" + 0.015*\"crean\"\n",
      "\n",
      "Score: 0.016673551872372627\t \n",
      "Topic: 0.033*\"rain\" + 0.031*\"govt\" + 0.029*\"iraq\" + 0.028*\"council\" + 0.022*\"miss\" + 0.021*\"accus\" + 0.020*\"break\" + 0.018*\"meet\" + 0.018*\"farmer\" + 0.017*\"concern\"\n",
      "\n",
      "Score: 0.016673490405082703\t \n",
      "Topic: 0.042*\"plan\" + 0.024*\"green\" + 0.023*\"play\" + 0.020*\"govt\" + 0.019*\"reject\" + 0.018*\"commun\" + 0.017*\"claim\" + 0.017*\"match\" + 0.016*\"offer\" + 0.016*\"iraqi\"\n",
      "\n",
      "Score: 0.016671020537614822\t \n",
      "Topic: 0.025*\"coast\" + 0.024*\"govt\" + 0.023*\"nation\" + 0.019*\"help\" + 0.018*\"gold\" + 0.015*\"draw\" + 0.015*\"clash\" + 0.014*\"ahead\" + 0.014*\"woman\" + 0.014*\"hear\"\n",
      "\n",
      "Score: 0.01666893996298313\t \n",
      "Topic: 0.052*\"council\" + 0.033*\"polic\" + 0.024*\"death\" + 0.022*\"begin\" + 0.019*\"attack\" + 0.018*\"plan\" + 0.017*\"korea\" + 0.016*\"river\" + 0.016*\"downer\" + 0.015*\"record\"\n",
      "\n",
      "Score: 0.016668129712343216\t \n",
      "Topic: 0.055*\"charg\" + 0.035*\"world\" + 0.034*\"murder\" + 0.030*\"kill\" + 0.020*\"polic\" + 0.019*\"hous\" + 0.018*\"trial\" + 0.017*\"drug\" + 0.017*\"claim\" + 0.015*\"boost\"\n",
      "\n",
      "Score: 0.0166678037494421\t \n",
      "Topic: 0.039*\"open\" + 0.028*\"probe\" + 0.022*\"warn\" + 0.021*\"hope\" + 0.021*\"launch\" + 0.021*\"injuri\" + 0.019*\"expect\" + 0.018*\"bali\" + 0.016*\"water\" + 0.016*\"race\"\n"
     ]
    }
   ],
   "source": [
    "for index, score in sorted(lda_model[bow_corpus[4310]], key=lambda tup: -1*tup[1]):\n",
    "    print(\"\\nScore: {}\\t \\nTopic: {}\".format(score, lda_model.print_topic(index, 10)))"
   ]
  },
  {
   "cell_type": "markdown",
   "metadata": {},
   "source": [
    "# Performance evaluation by classifying sample document using LDA TF-IDF Bag of Words model"
   ]
  },
  {
   "cell_type": "code",
   "execution_count": 34,
   "metadata": {},
   "outputs": [
    {
     "name": "stdout",
     "output_type": "stream",
     "text": [
      "\n",
      "Score: 0.47668322920799255\t \n",
      "Topic: 0.026*\"trial\" + 0.026*\"hous\" + 0.026*\"kill\" + 0.025*\"group\" + 0.025*\"turn\" + 0.019*\"appeal\" + 0.018*\"elect\" + 0.018*\"charg\" + 0.017*\"iraq\" + 0.016*\"test\"\n",
      "\n",
      "Score: 0.38993892073631287\t \n",
      "Topic: 0.025*\"iraqi\" + 0.019*\"play\" + 0.019*\"hear\" + 0.018*\"report\" + 0.018*\"year\" + 0.016*\"offer\" + 0.015*\"push\" + 0.015*\"deal\" + 0.014*\"pressur\" + 0.014*\"send\"\n",
      "\n",
      "Score: 0.01667601987719536\t \n",
      "Topic: 0.032*\"work\" + 0.024*\"seek\" + 0.020*\"cost\" + 0.019*\"race\" + 0.018*\"stay\" + 0.017*\"turkey\" + 0.017*\"polic\" + 0.017*\"semi\" + 0.016*\"green\" + 0.016*\"arrest\"\n",
      "\n",
      "Score: 0.016675597056746483\t \n",
      "Topic: 0.037*\"govt\" + 0.023*\"chang\" + 0.023*\"minist\" + 0.021*\"rule\" + 0.021*\"public\" + 0.020*\"record\" + 0.019*\"hold\" + 0.018*\"centr\" + 0.017*\"india\" + 0.016*\"talk\"\n",
      "\n",
      "Score: 0.016675561666488647\t \n",
      "Topic: 0.037*\"council\" + 0.025*\"iraq\" + 0.022*\"bushfir\" + 0.021*\"face\" + 0.017*\"home\" + 0.017*\"polic\" + 0.016*\"claim\" + 0.015*\"resolut\" + 0.015*\"rain\" + 0.015*\"second\"\n",
      "\n",
      "Score: 0.016672620549798012\t \n",
      "Topic: 0.042*\"open\" + 0.027*\"govt\" + 0.025*\"injur\" + 0.025*\"dead\" + 0.020*\"nation\" + 0.020*\"hewitt\" + 0.019*\"miss\" + 0.018*\"ahead\" + 0.018*\"clear\" + 0.018*\"match\"\n",
      "\n",
      "Score: 0.016670918092131615\t \n",
      "Topic: 0.028*\"lead\" + 0.026*\"anti\" + 0.022*\"return\" + 0.022*\"iraq\" + 0.019*\"begin\" + 0.018*\"final\" + 0.017*\"miss\" + 0.017*\"case\" + 0.017*\"worker\" + 0.017*\"missil\"\n",
      "\n",
      "Score: 0.016670092940330505\t \n",
      "Topic: 0.037*\"plan\" + 0.033*\"polic\" + 0.030*\"charg\" + 0.025*\"iraq\" + 0.021*\"death\" + 0.019*\"murder\" + 0.017*\"jail\" + 0.016*\"chief\" + 0.015*\"crash\" + 0.015*\"increa\"\n",
      "\n",
      "Score: 0.016669010743498802\t \n",
      "Topic: 0.034*\"world\" + 0.024*\"deni\" + 0.020*\"concern\" + 0.019*\"investig\" + 0.018*\"aust\" + 0.018*\"hospit\" + 0.016*\"unit\" + 0.014*\"downer\" + 0.014*\"issu\" + 0.013*\"caus\"\n",
      "\n",
      "Score: 0.016668042168021202\t \n",
      "Topic: 0.037*\"warn\" + 0.023*\"fund\" + 0.023*\"farmer\" + 0.022*\"drought\" + 0.021*\"cyclon\" + 0.019*\"resid\" + 0.018*\"australia\" + 0.017*\"titl\" + 0.017*\"teacher\" + 0.016*\"accus\"\n"
     ]
    }
   ],
   "source": [
    "for index, score in sorted(lda_model_tfidf[bow_corpus[4310]], key=lambda tup: -1*tup[1]):\n",
    "    print(\"\\nScore: {}\\t \\nTopic: {}\".format(score, lda_model_tfidf.print_topic(index, 10)))"
   ]
  },
  {
   "cell_type": "markdown",
   "metadata": {},
   "source": [
    "# Testing on Unseen Document"
   ]
  },
  {
   "cell_type": "code",
   "execution_count": 35,
   "metadata": {},
   "outputs": [
    {
     "name": "stdout",
     "output_type": "stream",
     "text": [
      "Score: 0.5499815344810486\t Topic: 0.033*\"rain\" + 0.031*\"govt\" + 0.029*\"iraq\" + 0.028*\"council\" + 0.022*\"miss\"\n",
      "Score: 0.0500054694712162\t Topic: 0.018*\"anti\" + 0.017*\"plan\" + 0.017*\"cost\" + 0.017*\"price\" + 0.016*\"home\"\n",
      "Score: 0.05000368878245354\t Topic: 0.052*\"council\" + 0.033*\"polic\" + 0.024*\"death\" + 0.022*\"begin\" + 0.019*\"attack\"\n",
      "Score: 0.05000288784503937\t Topic: 0.025*\"coast\" + 0.024*\"govt\" + 0.023*\"nation\" + 0.019*\"help\" + 0.018*\"gold\"\n",
      "Score: 0.05000215396285057\t Topic: 0.037*\"warn\" + 0.031*\"govt\" + 0.031*\"iraq\" + 0.029*\"protest\" + 0.019*\"head\"\n",
      "Score: 0.05000163987278938\t Topic: 0.055*\"charg\" + 0.035*\"world\" + 0.034*\"murder\" + 0.030*\"kill\" + 0.020*\"polic\"\n",
      "Score: 0.05000099167227745\t Topic: 0.049*\"iraq\" + 0.031*\"continu\" + 0.030*\"polic\" + 0.026*\"court\" + 0.022*\"fight\"\n",
      "Score: 0.05000053718686104\t Topic: 0.042*\"plan\" + 0.024*\"green\" + 0.023*\"play\" + 0.020*\"govt\" + 0.019*\"reject\"\n",
      "Score: 0.05000053718686104\t Topic: 0.039*\"open\" + 0.028*\"probe\" + 0.022*\"warn\" + 0.021*\"hope\" + 0.021*\"launch\"\n",
      "Score: 0.05000053718686104\t Topic: 0.074*\"polic\" + 0.029*\"lead\" + 0.020*\"titl\" + 0.019*\"want\" + 0.017*\"fund\"\n"
     ]
    }
   ],
   "source": [
    "unseen_document = 'How a Pentagon deal became an identity crisis for Google'\n",
    "bow_vector = dictionary.doc2bow(preprocess(unseen_document))\n",
    "for index, score in sorted(lda_model[bow_vector], key=lambda tup: -1*tup[1]):\n",
    "    print(\"Score: {}\\t Topic: {}\".format(score, lda_model.print_topic(index, 5)))"
   ]
  },
  {
   "cell_type": "code",
   "execution_count": null,
   "metadata": {},
   "outputs": [],
   "source": []
  }
 ],
 "metadata": {
  "kernelspec": {
   "display_name": "Python 3",
   "language": "python",
   "name": "python3"
  },
  "language_info": {
   "codemirror_mode": {
    "name": "ipython",
    "version": 3
   },
   "file_extension": ".py",
   "mimetype": "text/x-python",
   "name": "python",
   "nbconvert_exporter": "python",
   "pygments_lexer": "ipython3",
   "version": "3.7.6"
  }
 },
 "nbformat": 4,
 "nbformat_minor": 4
}
